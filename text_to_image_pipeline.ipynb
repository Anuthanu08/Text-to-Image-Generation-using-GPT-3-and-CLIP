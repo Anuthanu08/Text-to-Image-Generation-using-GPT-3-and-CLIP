{
 "cells": [
  {
   "cell_type": "code",
   "execution_count": null,
   "id": "9732c0d9-5697-4c4d-b97e-c2300cb99448",
   "metadata": {},
   "outputs": [],
   "source": [
    "import os\n",
    "import torch\n",
    "from models.gpt3 import generate_description\n",
    "from models.clip_utils import load_clip_model, get_text_embedding, get_image_embedding\n",
    "from models.vqgan import load_vqgan_model, decode_latent\n",
    "import matplotlib.pyplot as plt\n",
    "\n",
    "# Load Models\n",
    "clip_model, preprocess = load_clip_model()\n",
    "vqgan = load_vqgan_model()\n",
    "\n",
    "# Generate Detailed Caption\n",
    "prompt = \"A futuristic cityscape at dusk with neon lights and flying cars\"\n",
    "detailed_caption = generate_description(prompt)\n",
    "print(\"Caption:\", detailed_caption)\n",
    "\n",
    "# Get Text Embedding\n",
    "text_features = get_text_embedding(detailed_caption, clip_model)\n",
    "\n",
    "# Here, you would run your latent optimization loop.\n",
    "# assume you have a latent vector:\n",
    "latent = torch.randn((1, vqgan.latent_dim), device=\"cuda\" if torch.cuda.is_available() else \"cpu\")\n",
    "# Decode to image (replace with your optimization loop result)\n",
    "generated_image = decode_latent(vqgan, latent)\n",
    "\n",
    "# Display the generated image\n",
    "plt.imshow(generated_image)\n",
    "plt.axis(\"off\")\n",
    "plt.show()\n"
   ]
  }
 ],
 "metadata": {
  "kernelspec": {
   "display_name": "Python 3 (ipykernel)",
   "language": "python",
   "name": "python3"
  },
  "language_info": {
   "codemirror_mode": {
    "name": "ipython",
    "version": 3
   },
   "file_extension": ".py",
   "mimetype": "text/x-python",
   "name": "python",
   "nbconvert_exporter": "python",
   "pygments_lexer": "ipython3",
   "version": "3.11.7"
  }
 },
 "nbformat": 4,
 "nbformat_minor": 5
}
